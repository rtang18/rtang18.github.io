{
 "cells": [
  {
   "cell_type": "markdown",
   "metadata": {},
   "source": [
    "# \"What is the proportion of bachelor's degrees earned by women in the College of Engineering?\"\n",
    "- [Raw Data from CalAnswers](https://rtang18.github.io/engineering/engineering.csv)\n",
    "- [Data Cleaning Notebook](https://github.com/rtang18/WITI-RT/blob/master/engineering/engineering%20degrees%20by%20gender.ipynb)\n",
    "\n",
    "Below are the College of Engineering degrees by Gender in counts and percentages. We can see that the four largest majors in the CoE are Bioengineering, Civil Engineering, Electrical Engineering & Computer Science, and Mechanical Engineering."
   ]
  },
  {
   "cell_type": "code",
   "execution_count": 2,
   "metadata": {
    "collapsed": true
   },
   "outputs": [],
   "source": [
    "from IPython.display import IFrame"
   ]
  },
  {
   "cell_type": "code",
   "execution_count": 4,
   "metadata": {
    "scrolled": false
   },
   "outputs": [
    {
     "data": {
      "text/html": [
       "\n",
       "        <iframe\n",
       "            width=\"800\"\n",
       "            height=\"600\"\n",
       "            src=\"coe_18.html\"\n",
       "            frameborder=\"0\"\n",
       "            allowfullscreen\n",
       "        ></iframe>\n",
       "        "
      ],
      "text/plain": [
       "<IPython.lib.display.IFrame at 0x1dfbcfcae10>"
      ]
     },
     "execution_count": 4,
     "metadata": {},
     "output_type": "execute_result"
    }
   ],
   "source": [
    "IFrame('coe_18.html', width=800, height=600)"
   ]
  },
  {
   "cell_type": "code",
   "execution_count": 22,
   "metadata": {},
   "outputs": [
    {
     "data": {
      "text/html": [
       "\n",
       "        <iframe\n",
       "            width=\"800\"\n",
       "            height=\"525\"\n",
       "            src=\"coe_18_percentages.html\"\n",
       "            frameborder=\"0\"\n",
       "            allowfullscreen\n",
       "        ></iframe>\n",
       "        "
      ],
      "text/plain": [
       "<IPython.lib.display.IFrame at 0x2371387b828>"
      ]
     },
     "execution_count": 22,
     "metadata": {},
     "output_type": "execute_result"
    }
   ],
   "source": [
    "IFrame(src='coe_18_percentages.html', width=800, height=525)"
   ]
  },
  {
   "cell_type": "markdown",
   "metadata": {},
   "source": [
    "Let's take a closer look at the top 4 engineering majors. *EECs is by far the largest major, but it experiences the most gender disparity*. From 2012 to 2017, the proportion of female EECS majors increased from 13.9% to 16.4%.\n",
    "\n",
    "Bioengineering and Civil Engineering are smaller majors, but have the most equal gender representation, with *Civil Engineering notably having 51.8% of their degrees be earned by women in 2015-16.*"
   ]
  },
  {
   "cell_type": "code",
   "execution_count": 26,
   "metadata": {},
   "outputs": [
    {
     "data": {
      "text/html": [
       "\n",
       "        <iframe\n",
       "            width=\"800\"\n",
       "            height=\"525\"\n",
       "            src=\"four_18.html\"\n",
       "            frameborder=\"0\"\n",
       "            allowfullscreen\n",
       "        ></iframe>\n",
       "        "
      ],
      "text/plain": [
       "<IPython.lib.display.IFrame at 0x237149a07f0>"
      ]
     },
     "execution_count": 26,
     "metadata": {},
     "output_type": "execute_result"
    }
   ],
   "source": [
    "IFrame(src='four_18.html', width=800, height=525)"
   ]
  },
  {
   "cell_type": "code",
   "execution_count": 5,
   "metadata": {},
   "outputs": [
    {
     "data": {
      "text/html": [
       "\n",
       "        <iframe\n",
       "            width=\"800\"\n",
       "            height=\"525\"\n",
       "            src=\"four_18_percentage.html\"\n",
       "            frameborder=\"0\"\n",
       "            allowfullscreen\n",
       "        ></iframe>\n",
       "        "
      ],
      "text/plain": [
       "<IPython.lib.display.IFrame at 0x1dfbcfcafd0>"
      ]
     },
     "execution_count": 5,
     "metadata": {},
     "output_type": "execute_result"
    }
   ],
   "source": [
    "IFrame('four_18_percentage.html', width=800, height=525)"
   ]
  },
  {
   "cell_type": "markdown",
   "metadata": {},
   "source": [
    "# \"What is the proportion of bachelor's degrees earned by women in EECS?\""
   ]
  },
  {
   "cell_type": "markdown",
   "metadata": {},
   "source": [
    "Overall, the proportion of EECS bachelor's degrees earned by women is very small, averaging to be around 14.3% across the past four years. The percentage has increased by 3% from 2012-13 to 2017-18."
   ]
  },
  {
   "cell_type": "code",
   "execution_count": 6,
   "metadata": {},
   "outputs": [
    {
     "data": {
      "text/html": [
       "\n",
       "        <iframe\n",
       "            width=\"800\"\n",
       "            height=\"525\"\n",
       "            src=\"eecs_18.html\"\n",
       "            frameborder=\"0\"\n",
       "            allowfullscreen\n",
       "        ></iframe>\n",
       "        "
      ],
      "text/plain": [
       "<IPython.lib.display.IFrame at 0x1dfbcfe12e8>"
      ]
     },
     "execution_count": 6,
     "metadata": {},
     "output_type": "execute_result"
    }
   ],
   "source": [
    "IFrame('eecs_18.html', width=800, height=525)"
   ]
  },
  {
   "cell_type": "code",
   "execution_count": 7,
   "metadata": {},
   "outputs": [
    {
     "data": {
      "text/html": [
       "\n",
       "        <iframe\n",
       "            width=\"800\"\n",
       "            height=\"525\"\n",
       "            src=\"eecs_18_percentage.html\"\n",
       "            frameborder=\"0\"\n",
       "            allowfullscreen\n",
       "        ></iframe>\n",
       "        "
      ],
      "text/plain": [
       "<IPython.lib.display.IFrame at 0x1dfbcfca940>"
      ]
     },
     "execution_count": 7,
     "metadata": {},
     "output_type": "execute_result"
    }
   ],
   "source": [
    "IFrame('eecs_18_percentage.html', width=800, height=525)"
   ]
  },
  {
   "cell_type": "markdown",
   "metadata": {},
   "source": [
    "# \"How many female Engineering/CS degrees earned by women in all of UC? How does Berkeley compare?\"\n",
    "- [Raw Data Source](https://www.universityofcalifornia.edu/infocenter/degrees-awarded-data)\n",
    "\n",
    "The percentage of Engineering and CS female graduates in UC overall hovers around 20% to 30% range. Berkeley notably has more equal gender representation (as far as a 7% difference) compared to UC overall across undergrad, masters, and doctorate levels and across all years (besides two years at the PhD level, bolded below), with the highest levels of equality (avg 31.45%) occurring at the master's level."
   ]
  },
  {
   "cell_type": "markdown",
   "metadata": {},
   "source": [
    "| Group                             | 2012-13 | 2013-14 | 2014-15 | 2015-16 | 2016-17 | 2017-18 |\n",
    "|-----------------------------------|---------|---------|---------|---------|---------|---------|\n",
    "| UC Undergrad Eng/CS Females       | 19.4%   | 20.5%   | 20.1%   | 22%     | 21.5%   | 22.8%   |\n",
    "| Berkeley Undergrad Eng/CS Females | 20%     | 22.1%   | 20.9%   | 23.3%   | 24%     | 25.3%   |\n",
    "| UC Masters Eng/CS Females         | 23.8%   | 25.5%   | 26.2%   | 27.1%   | 27.5%   | 28.1%   |\n",
    "| Berkeley Masters Eng/CS Females   | 30.5%   | 31.7%   | 29.8%   | 30.6%   | 32.1%   | 34%     |\n",
    "| UC Doctorate Eng/CS Females        | 21%     | 22.1%   | 21.3%   | 22%     | 26.3%   | 23.8%   |\n",
    "| Berkeley Doctorate Eng/CS Females  | 20.3%   | **19.6%**   | 23.5%   | **18.8%**   | 30%     | 27.5%   |"
   ]
  },
  {
   "cell_type": "markdown",
   "metadata": {},
   "source": [
    "# \"In what industries are UC engineering/CS graduates working?\"\n",
    "- [Original Interactive Visualization](https://www.universityofcalifornia.edu/infocenter/uc-stem-degree-pipeline)\n",
    "- [More Information on UC STEM Degree Production](https://www.ucop.edu/institutional-research-academic-planning/_files/stem_degree_brief.pdf)\n",
    "\n",
    "The top 4 industries for UC engineering and CS bachelor graduates in descending order are 1) Manufacturing, 2) Internet and Computer Systems, 3) Other Industries, and 4) Engineering Services.\n",
    "\n",
    "However, the top 3 industries for UC engineering and CS masters and doctorate graduates in descending order are 1) Manufacturing, 2) Engineering Services, and 3) Internet and Computer Systems. \n",
    "\n",
    "Almost a quarter of doctorate graduates remain in higher education within the first 2 years after graduation."
   ]
  },
  {
   "cell_type": "code",
   "execution_count": 18,
   "metadata": {
    "scrolled": false
   },
   "outputs": [
    {
     "data": {
      "text/html": [
       "\n",
       "        <iframe\n",
       "            width=\"1500\"\n",
       "            height=\"800\"\n",
       "            src=\"UC EngCS Industries.gif\"\n",
       "            frameborder=\"0\"\n",
       "            allowfullscreen\n",
       "        ></iframe>\n",
       "        "
      ],
      "text/plain": [
       "<IPython.lib.display.IFrame at 0x1dfbe124358>"
      ]
     },
     "execution_count": 18,
     "metadata": {},
     "output_type": "execute_result"
    }
   ],
   "source": [
    "IFrame(\"UC EngCS Industries.gif\", width=1500, height=800\n",
    ")"
   ]
  },
  {
   "cell_type": "markdown",
   "metadata": {
    "collapsed": true
   },
   "source": [
    "Contact: Rebekah Tang, [Email](mailto:rtang18@berkeley.edu)"
   ]
  }
 ],
 "metadata": {
  "kernelspec": {
   "display_name": "Python 3",
   "language": "python",
   "name": "python3"
  },
  "language_info": {
   "codemirror_mode": {
    "name": "ipython",
    "version": 3
   },
   "file_extension": ".py",
   "mimetype": "text/x-python",
   "name": "python",
   "nbconvert_exporter": "python",
   "pygments_lexer": "ipython3",
   "version": "3.6.3"
  }
 },
 "nbformat": 4,
 "nbformat_minor": 2
}
